{
 "cells": [
  {
   "cell_type": "code",
   "execution_count": 1,
   "metadata": {},
   "outputs": [],
   "source": [
    "import torch\n",
    "import pandas as pd\n",
    "from sklearn.model_selection import train_test_split\n",
    "from sklearn.linear_model import LogisticRegression\n",
    "from scipy.stats import linregress\n",
    "from sklearn.metrics import recall_score\n",
    "from sklearn import preprocessing\n",
    "from sklearn.ensemble import RandomForestClassifier\n",
    "from sklearn.feature_selection import SelectFromModel\n",
    "from sklearn.model_selection import KFold"
   ]
  },
  {
   "cell_type": "code",
   "execution_count": 2,
   "metadata": {},
   "outputs": [],
   "source": [
    "dt = pd.read_csv(\"HCDR.csv\")"
   ]
  },
  {
   "cell_type": "code",
   "execution_count": 3,
   "metadata": {},
   "outputs": [],
   "source": [
    "###undersample\n",
    "rows = dt.loc[dt['TARGET']==1].shape[0]\n",
    "class0 = dt.loc[dt['TARGET']==0].sample(rows,random_state=111).reset_index(drop=True)\n",
    "class1 = dt.loc[dt['TARGET']==1].reset_index(drop=True)\n",
    "dt2 = pd.concat([class0,class1],axis = 0).reset_index(drop=True)"
   ]
  },
  {
   "cell_type": "code",
   "execution_count": 3,
   "metadata": {},
   "outputs": [],
   "source": [
    "###over sample\n",
    "\n",
    "rows0 = dt.loc[dt['TARGET']==0].shape[0]\n",
    "class1 = dt.loc[dt['TARGET']==1].sample(rows0,replace = True,random_state=111).reset_index(drop=True)\n",
    "class0 = dt.loc[dt['TARGET']==0].reset_index(drop=True)\n",
    "dt2 = pd.concat([class0,class1],axis = 0).reset_index(drop=True)"
   ]
  },
  {
   "cell_type": "code",
   "execution_count": 4,
   "metadata": {},
   "outputs": [],
   "source": [
    "###over sample is better"
   ]
  },
  {
   "cell_type": "code",
   "execution_count": 5,
   "metadata": {},
   "outputs": [],
   "source": [
    "Y = dt2['TARGET']\n",
    "X = dt2.drop( ['TARGET','SK_ID_CURR'],axis=1)"
   ]
  },
  {
   "cell_type": "code",
   "execution_count": 6,
   "metadata": {},
   "outputs": [],
   "source": [
    "columns = list(X.columns)"
   ]
  },
  {
   "cell_type": "code",
   "execution_count": 7,
   "metadata": {},
   "outputs": [
    {
     "name": "stderr",
     "output_type": "stream",
     "text": [
      "C:\\ProgramData\\Anaconda3\\lib\\site-packages\\ipykernel_launcher.py:1: DataConversionWarning: Data with input dtype int64, float64 were all converted to float64 by the scale function.\n",
      "  \"\"\"Entry point for launching an IPython kernel.\n"
     ]
    }
   ],
   "source": [
    "X = preprocessing.scale(X)"
   ]
  },
  {
   "cell_type": "code",
   "execution_count": 8,
   "metadata": {},
   "outputs": [],
   "source": [
    "X = pd.DataFrame(X,columns = columns)"
   ]
  },
  {
   "cell_type": "code",
   "execution_count": 9,
   "metadata": {},
   "outputs": [],
   "source": [
    "X_train,X_test,y_train,y_test = train_test_split(X,Y,test_size = 0.05,random_state = 111)"
   ]
  },
  {
   "cell_type": "code",
   "execution_count": 10,
   "metadata": {},
   "outputs": [],
   "source": [
    "X_train,X_val,y_train,y_val = train_test_split(X_train,y_train,test_size = 0.25,random_state = 222)"
   ]
  },
  {
   "cell_type": "code",
   "execution_count": 11,
   "metadata": {},
   "outputs": [],
   "source": [
    "columns = list(X.columns)"
   ]
  },
  {
   "cell_type": "code",
   "execution_count": 12,
   "metadata": {},
   "outputs": [
    {
     "data": {
      "text/plain": [
       "RandomForestClassifier(bootstrap=True, class_weight=None, criterion='gini',\n",
       "            max_depth=None, max_features='auto', max_leaf_nodes=None,\n",
       "            min_impurity_decrease=0.0, min_impurity_split=None,\n",
       "            min_samples_leaf=1, min_samples_split=2,\n",
       "            min_weight_fraction_leaf=0.0, n_estimators=1000, n_jobs=-1,\n",
       "            oob_score=False, random_state=0, verbose=0, warm_start=False)"
      ]
     },
     "execution_count": 12,
     "metadata": {},
     "output_type": "execute_result"
    }
   ],
   "source": [
    "clf = RandomForestClassifier(n_estimators=1000, random_state=0, n_jobs=-1)\n",
    "clf.fit(X_train, y_train)"
   ]
  },
  {
   "cell_type": "code",
   "execution_count": 13,
   "metadata": {},
   "outputs": [],
   "source": [
    "importance = pd.DataFrame({'columns':list(X.columns),'fi':clf.feature_importances_})"
   ]
  },
  {
   "cell_type": "code",
   "execution_count": 14,
   "metadata": {},
   "outputs": [],
   "source": [
    "importance = importance.sort_values(by='fi',ascending = False).reset_index(drop=True)"
   ]
  },
  {
   "cell_type": "code",
   "execution_count": 15,
   "metadata": {},
   "outputs": [],
   "source": [
    "i1 = list(importance.iloc[:100,0])\n"
   ]
  },
  {
   "cell_type": "code",
   "execution_count": null,
   "metadata": {},
   "outputs": [],
   "source": [
    "##Logistics Regression"
   ]
  },
  {
   "cell_type": "code",
   "execution_count": 16,
   "metadata": {},
   "outputs": [],
   "source": [
    "lr = LogisticRegression(penalty = 'l2',C=0.01)"
   ]
  },
  {
   "cell_type": "code",
   "execution_count": 17,
   "metadata": {},
   "outputs": [
    {
     "name": "stderr",
     "output_type": "stream",
     "text": [
      "C:\\ProgramData\\Anaconda3\\lib\\site-packages\\sklearn\\linear_model\\logistic.py:433: FutureWarning: Default solver will be changed to 'lbfgs' in 0.22. Specify a solver to silence this warning.\n",
      "  FutureWarning)\n"
     ]
    },
    {
     "data": {
      "text/plain": [
       "LogisticRegression(C=0.01, class_weight=None, dual=False, fit_intercept=True,\n",
       "          intercept_scaling=1, max_iter=100, multi_class='warn',\n",
       "          n_jobs=None, penalty='l2', random_state=None, solver='warn',\n",
       "          tol=0.0001, verbose=0, warm_start=False)"
      ]
     },
     "execution_count": 17,
     "metadata": {},
     "output_type": "execute_result"
    }
   ],
   "source": [
    "lr.fit(X_train[i1],y_train)"
   ]
  },
  {
   "cell_type": "code",
   "execution_count": 18,
   "metadata": {},
   "outputs": [],
   "source": [
    "y_pred = lr.predict(X_val[i1])"
   ]
  },
  {
   "cell_type": "code",
   "execution_count": 19,
   "metadata": {},
   "outputs": [
    {
     "data": {
      "text/plain": [
       "0.6882486445593242"
      ]
     },
     "execution_count": 19,
     "metadata": {},
     "output_type": "execute_result"
    }
   ],
   "source": [
    "recall_score(y_val,y_pred)"
   ]
  },
  {
   "cell_type": "code",
   "execution_count": 8,
   "metadata": {},
   "outputs": [],
   "source": [
    "### DNN"
   ]
  },
  {
   "cell_type": "code",
   "execution_count": 16,
   "metadata": {},
   "outputs": [],
   "source": [
    "from torch import tensor\n",
    "import torch.nn as nn\n",
    "import torch.nn.functional as F\n",
    "import numpy as np"
   ]
  },
  {
   "cell_type": "code",
   "execution_count": 17,
   "metadata": {},
   "outputs": [],
   "source": [
    "X_train_tensor = torch.from_numpy(X_train[i1].values.astype(np.float32))\n",
    "y_train_tensor = torch.from_numpy(y_train.astype(np.float32).values)\n",
    "X_v_tensor = torch.from_numpy(X_val[i1].values.astype(np.float32))\n",
    "y_v_tensor = torch.from_numpy(y_val.astype(np.float32).values)"
   ]
  },
  {
   "cell_type": "code",
   "execution_count": 18,
   "metadata": {},
   "outputs": [],
   "source": [
    "device = torch.device(\"cuda:0\" if torch.cuda.is_available() else \"cpu\")"
   ]
  },
  {
   "cell_type": "code",
   "execution_count": 19,
   "metadata": {},
   "outputs": [],
   "source": [
    "class Net1(nn.Module):\n",
    "    def __init__(self,n_features,n_hidden,n_out):\n",
    "        super(Net1,self).__init__()\n",
    "        ##input combination\n",
    "        self.fc1 = nn.Linear(n_features,n_hidden)\n",
    "        self.fc2 = nn.Linear(n_hidden,n_out)\n",
    "        \n",
    "    def forward(self,x):\n",
    "        \n",
    "        ##hidden output\n",
    "        x = F.tanh(self.fc1(x))\n",
    "        \n",
    "        ##out output\n",
    "        x = F.sigmoid(self.fc2(x))\n",
    "        \n",
    "        return x\n",
    "    def label(self,x):\n",
    "        res = self.forward(x)\n",
    "        ans = []\n",
    "        for i in res:\n",
    "            if i[0]>0.5:\n",
    "                ans.append(1)\n",
    "            else:\n",
    "                ans.append(0)\n",
    "                \n",
    "        return tensor(ans)\n",
    "    \n",
    "class Net2(nn.Module):\n",
    "    def __init__(self,n_features,n_hidden1,n_hidden2,n_out):\n",
    "        super(Net2,self).__init__()\n",
    "        ##input combination\n",
    "        self.fc1 = nn.Linear(n_features,n_hidden1)\n",
    "        self.fc2 = nn.Linear(n_hidden1,n_hidden2)\n",
    "        self.fc3 = nn.Linear(n_hidden2,n_out)\n",
    "    def forward(self,x):\n",
    "        \n",
    "        ##hidden output\n",
    "        x = F.tanh(self.fc1(x))\n",
    "        x = F.tanh(self.fc2(x))\n",
    "        ##out output\n",
    "        x = F.sigmoid(self.fc3(x))\n",
    "        \n",
    "        return x\n",
    "    def label(self,x):\n",
    "        res = self.forward(x)\n",
    "        ans = []\n",
    "        for i in res:\n",
    "            if i[0]>0.5:\n",
    "                ans.append(1)\n",
    "            else:\n",
    "                ans.append(0)\n",
    "                \n",
    "        return tensor(ans)\n",
    "    \n",
    "class Net3(nn.Module):\n",
    "    def __init__(self,n_features,n_hidden1,n_hidden2,n_hidden3,n_out):\n",
    "        super(Net3,self).__init__()\n",
    "        \n",
    "        ##input combination\n",
    "        self.fc1 = nn.Linear(n_features,n_hidden1)\n",
    "        self.fc2 = nn.Linear(n_hidden1,n_hidden2)\n",
    "        self.fc3 = nn.Linear(n_hidden2,n_hidden3)\n",
    "        self.fc4 = nn.Linear(n_hidden3,n_out)\n",
    "        \n",
    "    def forward(self,x):\n",
    "        \n",
    "        ##hidden output\n",
    "        x = F.tanh(self.fc1(x))\n",
    "        x = F.tanh(self.fc2(x))\n",
    "        x = F.tanh(self.fc3(x))\n",
    "        ##out output\n",
    "        x = F.sigmoid(self.fc4(x))\n",
    "        \n",
    "        return x\n",
    "    def label(self,x):\n",
    "        res = self.forward(x)\n",
    "        ans = []\n",
    "        for i in res:\n",
    "            if i[0]>0.5:\n",
    "                ans.append(1)\n",
    "            else:\n",
    "                ans.append(0)\n",
    "                \n",
    "        return tensor(ans)"
   ]
  },
  {
   "cell_type": "code",
   "execution_count": 2,
   "metadata": {},
   "outputs": [],
   "source": [
    "###do cross validation to choose best hyperparameters\n",
    "###tunning parameters are hidden layers, learning rates, echos, hidden nodes"
   ]
  },
  {
   "cell_type": "code",
   "execution_count": 21,
   "metadata": {},
   "outputs": [],
   "source": [
    "def tune1(X,y,lra,echos,hidden_nodes,Xcv,ycv):\n",
    "    m = Net1(X.shape[1],hidden_nodes,1)\n",
    "    m = m.to(device)\n",
    "    opt = torch.optim.SGD(m.parameters(),lr=lra)\n",
    "    loss = torch.nn.BCELoss()\n",
    "    for t in range(echos):\n",
    "        pred = m.forward(X)\n",
    "        los = loss(pred,y)\n",
    "        opt.zero_grad()\n",
    "        los.backward()\n",
    "        opt.step()\n",
    "        \n",
    "    cvpred = m.label(Xcv)\n",
    "    cvpred = cvpred.cpu()\n",
    "    recall = recall_score(cvpred,ycv)\n",
    "    return recall\n",
    "\n",
    "\n",
    "def tune2(X,y,lra,echos,hid1,hid2,Xcv,ycv):\n",
    "    m = Net2(X.shape[1],hid1,hid2,1)\n",
    "    m = m.to(device)\n",
    "    opt = torch.optim.SGD(m.parameters(),lr=lra)\n",
    "    loss = torch.nn.BCELoss()\n",
    "    for t in range(echos):\n",
    "        pred = m.forward(X)\n",
    "        los = loss(pred,y)\n",
    "        opt.zero_grad()\n",
    "        los.backward()\n",
    "        opt.step()\n",
    "        \n",
    "    cvpred = m.label(Xcv)\n",
    "    cvpred = cvpred.cpu()\n",
    "    recall = recall_score(cvpred,ycv)\n",
    "    return recall\n",
    "        \n",
    "    \n",
    "def tune3(X,y,lra,echos,hid1,hid2,hid3,Xcv,ycv):\n",
    "    m = Net3(X.shape[1],hid1,hid2,hid3,1)\n",
    "    m = m.to(device)\n",
    "    opt = torch.optim.SGD(m.parameters(),lr=lra)\n",
    "    loss = torch.nn.BCELoss()\n",
    "    for t in range(echos):\n",
    "        pred = m.forward(X)\n",
    "        los = loss(pred,y)\n",
    "        opt.zero_grad()\n",
    "        los.backward()\n",
    "        opt.step()\n",
    "        \n",
    "    cvpred = m.label(Xcv)\n",
    "    cvpred = cvpred.cpu()\n",
    "    recall = recall_score(cvpred,ycv)\n",
    "    return recall"
   ]
  },
  {
   "cell_type": "code",
   "execution_count": 22,
   "metadata": {},
   "outputs": [],
   "source": [
    "hids = [50,100,500,1000]\n",
    "lras = [0.5,0.1,0.05,0.01,0.001]\n",
    "echos = [100,500,1000,5000,10000]"
   ]
  },
  {
   "cell_type": "code",
   "execution_count": 23,
   "metadata": {},
   "outputs": [],
   "source": [
    "##5folds\n",
    "kf = KFold(n_splits = 5,random_state=222)\n"
   ]
  },
  {
   "cell_type": "code",
   "execution_count": 24,
   "metadata": {},
   "outputs": [],
   "source": [
    "##1 hidden layer\n",
    "def cv1(trainX,trainy,lra,echos,hid1):\n",
    "    recalls = 0\n",
    "    for train,test in kf.split(trainX):\n",
    "        tmp_train_X = trainX[train,]\n",
    "        tmp_train_y = trainy[train,]\n",
    "        tmp_test_X = trainX[test,]\n",
    "        tmp_test_y = trainy[test,]\n",
    "        tmp_train_X = tmp_train_X.to(device)\n",
    "        tmp_train_y = tmp_train_y.to(device)\n",
    "        tmp_test_X = tmp_test_X.to(device)\n",
    "\n",
    "        re1 = tune1(tmp_train_X,tmp_train_y,lra,echos,hid1,tmp_test_X,tmp_test_y)\n",
    "        recalls+=re1\n",
    "    \n",
    "    return(recalls/5)"
   ]
  },
  {
   "cell_type": "code",
   "execution_count": 25,
   "metadata": {},
   "outputs": [
    {
     "name": "stdout",
     "output_type": "stream",
     "text": [
      "1\n"
     ]
    },
    {
     "name": "stderr",
     "output_type": "stream",
     "text": [
      "C:\\ProgramData\\Anaconda3\\lib\\site-packages\\torch\\nn\\functional.py:1374: UserWarning: nn.functional.tanh is deprecated. Use torch.tanh instead.\n",
      "  warnings.warn(\"nn.functional.tanh is deprecated. Use torch.tanh instead.\")\n",
      "C:\\ProgramData\\Anaconda3\\lib\\site-packages\\torch\\nn\\functional.py:1386: UserWarning: nn.functional.sigmoid is deprecated. Use torch.sigmoid instead.\n",
      "  warnings.warn(\"nn.functional.sigmoid is deprecated. Use torch.sigmoid instead.\")\n",
      "C:\\ProgramData\\Anaconda3\\lib\\site-packages\\torch\\nn\\modules\\loss.py:512: UserWarning: Using a target size (torch.Size([6951])) that is different to the input size (torch.Size([6951, 1])) is deprecated. Please ensure they have the same size.\n",
      "  return F.binary_cross_entropy(input, target, weight=self.weight, reduction=self.reduction)\n",
      "C:\\ProgramData\\Anaconda3\\lib\\site-packages\\torch\\nn\\modules\\loss.py:512: UserWarning: Using a target size (torch.Size([6952])) that is different to the input size (torch.Size([6952, 1])) is deprecated. Please ensure they have the same size.\n",
      "  return F.binary_cross_entropy(input, target, weight=self.weight, reduction=self.reduction)\n"
     ]
    },
    {
     "name": "stdout",
     "output_type": "stream",
     "text": [
      "2\n",
      "3\n",
      "4\n",
      "5\n",
      "6\n",
      "7\n",
      "8\n",
      "9\n",
      "10\n",
      "11\n",
      "12\n",
      "13\n",
      "14\n",
      "15\n",
      "16\n",
      "17\n",
      "18\n",
      "19\n",
      "20\n",
      "21\n",
      "22\n",
      "23\n",
      "24\n",
      "25\n",
      "26\n",
      "27\n",
      "28\n",
      "29\n",
      "30\n",
      "31\n",
      "32\n",
      "33\n",
      "34\n",
      "35\n",
      "36\n",
      "37\n",
      "38\n",
      "39\n",
      "40\n",
      "41\n",
      "42\n",
      "43\n",
      "44\n",
      "45\n",
      "46\n",
      "47\n",
      "48\n",
      "49\n",
      "50\n",
      "51\n",
      "52\n",
      "53\n",
      "54\n",
      "55\n",
      "56\n",
      "57\n",
      "58\n",
      "59\n",
      "60\n",
      "61\n",
      "62\n",
      "63\n",
      "64\n",
      "65\n",
      "66\n",
      "67\n",
      "68\n",
      "69\n",
      "70\n",
      "71\n",
      "72\n",
      "73\n",
      "74\n",
      "75\n",
      "76\n",
      "77\n",
      "78\n",
      "79\n",
      "80\n",
      "81\n",
      "82\n",
      "83\n",
      "84\n",
      "85\n",
      "86\n",
      "87\n",
      "88\n",
      "89\n",
      "90\n",
      "91\n",
      "92\n",
      "93\n",
      "94\n",
      "95\n",
      "96\n",
      "97\n",
      "98\n",
      "99\n",
      "100\n"
     ]
    }
   ],
   "source": [
    "h = list()\n",
    "l = list()\n",
    "e = list()\n",
    "res = list()\n",
    "times=0\n",
    "for i in hids:\n",
    "    for j in lras:\n",
    "        for k in echos:\n",
    "            h.append(i)\n",
    "            l.append(j)\n",
    "            e.append(k)\n",
    "            times += 1\n",
    "            print(times)\n",
    "            res.append(cv1(X_train_tensor,y_train_tensor,j,k,i))"
   ]
  },
  {
   "cell_type": "code",
   "execution_count": 44,
   "metadata": {},
   "outputs": [],
   "source": [
    "\n",
    "def cv2(trainX,trainy,lra,echos,hid1,hid2):\n",
    "    recalls = 0\n",
    "    for train,test in kf.split(trainX):\n",
    "        tmp_train_X = trainX[train,]\n",
    "        tmp_train_y = trainy[train,]\n",
    "        tmp_test_X = trainX[test,]\n",
    "        tmp_test_y = trainy[test,]\n",
    "        tmp_train_X = tmp_train_X.to(device)\n",
    "        tmp_train_y = tmp_train_y.to(device)\n",
    "        tmp_test_X = tmp_test_X.to(device)\n",
    "\n",
    "        re1 = tune2(tmp_train_X,tmp_train_y,lra,echos,hid1,hid2,tmp_test_X,tmp_test_y)\n",
    "        recalls+=re1\n",
    "    \n",
    "    return(recalls/5)"
   ]
  },
  {
   "cell_type": "code",
   "execution_count": 45,
   "metadata": {},
   "outputs": [
    {
     "name": "stdout",
     "output_type": "stream",
     "text": [
      "50 50 0.5 100\n",
      "50 50 0.5 500\n",
      "50 50 0.5 1000\n",
      "50 50 0.5 5000\n",
      "50 50 0.5 10000\n",
      "50 50 0.1 100\n",
      "50 50 0.1 500\n",
      "50 50 0.1 1000\n",
      "50 50 0.1 5000\n",
      "50 50 0.1 10000\n",
      "50 50 0.05 100\n",
      "50 50 0.05 500\n",
      "50 50 0.05 1000\n",
      "50 50 0.05 5000\n",
      "50 50 0.05 10000\n",
      "50 50 0.01 100\n",
      "50 50 0.01 500\n",
      "50 50 0.01 1000\n",
      "50 50 0.01 5000\n",
      "50 50 0.01 10000\n",
      "50 50 0.001 100\n",
      "50 50 0.001 500\n",
      "50 50 0.001 1000\n",
      "50 50 0.001 5000\n",
      "50 50 0.001 10000\n",
      "50 100 0.5 100\n",
      "50 100 0.5 500\n",
      "50 100 0.5 1000\n",
      "50 100 0.5 5000\n",
      "50 100 0.5 10000\n",
      "50 100 0.1 100\n",
      "50 100 0.1 500\n",
      "50 100 0.1 1000\n",
      "50 100 0.1 5000\n",
      "50 100 0.1 10000\n",
      "50 100 0.05 100\n",
      "50 100 0.05 500\n",
      "50 100 0.05 1000\n",
      "50 100 0.05 5000\n",
      "50 100 0.05 10000\n",
      "50 100 0.01 100\n",
      "50 100 0.01 500\n",
      "50 100 0.01 1000\n",
      "50 100 0.01 5000\n",
      "50 100 0.01 10000\n",
      "50 100 0.001 100\n",
      "50 100 0.001 500\n",
      "50 100 0.001 1000\n",
      "50 100 0.001 5000\n",
      "50 100 0.001 10000\n",
      "50 500 0.5 100\n",
      "50 500 0.5 500\n",
      "50 500 0.5 1000\n",
      "50 500 0.5 5000\n",
      "50 500 0.5 10000\n",
      "50 500 0.1 100\n",
      "50 500 0.1 500\n",
      "50 500 0.1 1000\n",
      "50 500 0.1 5000\n",
      "50 500 0.1 10000\n",
      "50 500 0.05 100\n",
      "50 500 0.05 500\n",
      "50 500 0.05 1000\n",
      "50 500 0.05 5000\n",
      "50 500 0.05 10000\n",
      "50 500 0.01 100\n",
      "50 500 0.01 500\n",
      "50 500 0.01 1000\n",
      "50 500 0.01 5000\n",
      "50 500 0.01 10000\n",
      "50 500 0.001 100\n",
      "50 500 0.001 500\n",
      "50 500 0.001 1000\n",
      "50 500 0.001 5000\n",
      "50 500 0.001 10000\n",
      "50 1000 0.5 100\n",
      "50 1000 0.5 500\n",
      "50 1000 0.5 1000\n",
      "50 1000 0.5 5000\n",
      "50 1000 0.5 10000\n",
      "50 1000 0.1 100\n",
      "50 1000 0.1 500\n",
      "50 1000 0.1 1000\n",
      "50 1000 0.1 5000\n",
      "50 1000 0.1 10000\n",
      "50 1000 0.05 100\n",
      "50 1000 0.05 500\n",
      "50 1000 0.05 1000\n",
      "50 1000 0.05 5000\n"
     ]
    },
    {
     "ename": "KeyboardInterrupt",
     "evalue": "",
     "output_type": "error",
     "traceback": [
      "\u001b[1;31m---------------------------------------------------------------------------\u001b[0m",
      "\u001b[1;31mKeyboardInterrupt\u001b[0m                         Traceback (most recent call last)",
      "\u001b[1;32m<ipython-input-45-f3773e0d6d69>\u001b[0m in \u001b[0;36m<module>\u001b[1;34m\u001b[0m\n\u001b[0;32m     13\u001b[0m                 \u001b[0me2\u001b[0m\u001b[1;33m.\u001b[0m\u001b[0mappend\u001b[0m\u001b[1;33m(\u001b[0m\u001b[0mk\u001b[0m\u001b[1;33m)\u001b[0m\u001b[1;33m\u001b[0m\u001b[1;33m\u001b[0m\u001b[0m\n\u001b[0;32m     14\u001b[0m                 \u001b[0mprint\u001b[0m\u001b[1;33m(\u001b[0m\u001b[0mstr\u001b[0m\u001b[1;33m(\u001b[0m\u001b[0mi\u001b[0m\u001b[1;33m)\u001b[0m \u001b[1;33m+\u001b[0m \u001b[1;34m' '\u001b[0m \u001b[1;33m+\u001b[0m \u001b[0mstr\u001b[0m\u001b[1;33m(\u001b[0m\u001b[0mn\u001b[0m\u001b[1;33m)\u001b[0m \u001b[1;33m+\u001b[0m \u001b[1;34m' '\u001b[0m \u001b[1;33m+\u001b[0m \u001b[0mstr\u001b[0m\u001b[1;33m(\u001b[0m\u001b[0mj\u001b[0m\u001b[1;33m)\u001b[0m \u001b[1;33m+\u001b[0m \u001b[1;34m' '\u001b[0m\u001b[1;33m+\u001b[0m\u001b[0mstr\u001b[0m\u001b[1;33m(\u001b[0m\u001b[0mk\u001b[0m\u001b[1;33m)\u001b[0m\u001b[1;33m)\u001b[0m\u001b[1;33m\u001b[0m\u001b[1;33m\u001b[0m\u001b[0m\n\u001b[1;32m---> 15\u001b[1;33m                 \u001b[0mres2\u001b[0m\u001b[1;33m.\u001b[0m\u001b[0mappend\u001b[0m\u001b[1;33m(\u001b[0m\u001b[0mcv2\u001b[0m\u001b[1;33m(\u001b[0m\u001b[0mX_train_tensor\u001b[0m\u001b[1;33m,\u001b[0m\u001b[0my_train_tensor\u001b[0m\u001b[1;33m,\u001b[0m\u001b[0mj\u001b[0m\u001b[1;33m,\u001b[0m\u001b[0mk\u001b[0m\u001b[1;33m,\u001b[0m\u001b[0mi\u001b[0m\u001b[1;33m,\u001b[0m\u001b[0mn\u001b[0m\u001b[1;33m)\u001b[0m\u001b[1;33m)\u001b[0m\u001b[1;33m\u001b[0m\u001b[1;33m\u001b[0m\u001b[0m\n\u001b[0m",
      "\u001b[1;32m<ipython-input-44-7a26079a1db2>\u001b[0m in \u001b[0;36mcv2\u001b[1;34m(trainX, trainy, lra, echos, hid1, hid2)\u001b[0m\n\u001b[0;32m     11\u001b[0m         \u001b[0mtmp_test_X\u001b[0m \u001b[1;33m=\u001b[0m \u001b[0mtmp_test_X\u001b[0m\u001b[1;33m.\u001b[0m\u001b[0mto\u001b[0m\u001b[1;33m(\u001b[0m\u001b[0mdevice\u001b[0m\u001b[1;33m)\u001b[0m\u001b[1;33m\u001b[0m\u001b[1;33m\u001b[0m\u001b[0m\n\u001b[0;32m     12\u001b[0m \u001b[1;33m\u001b[0m\u001b[0m\n\u001b[1;32m---> 13\u001b[1;33m         \u001b[0mre1\u001b[0m \u001b[1;33m=\u001b[0m \u001b[0mtune2\u001b[0m\u001b[1;33m(\u001b[0m\u001b[0mtmp_train_X\u001b[0m\u001b[1;33m,\u001b[0m\u001b[0mtmp_train_y\u001b[0m\u001b[1;33m,\u001b[0m\u001b[0mlra\u001b[0m\u001b[1;33m,\u001b[0m\u001b[0mechos\u001b[0m\u001b[1;33m,\u001b[0m\u001b[0mhid1\u001b[0m\u001b[1;33m,\u001b[0m\u001b[0mhid2\u001b[0m\u001b[1;33m,\u001b[0m\u001b[0mtmp_test_X\u001b[0m\u001b[1;33m,\u001b[0m\u001b[0mtmp_test_y\u001b[0m\u001b[1;33m)\u001b[0m\u001b[1;33m\u001b[0m\u001b[1;33m\u001b[0m\u001b[0m\n\u001b[0m\u001b[0;32m     14\u001b[0m         \u001b[0mrecalls\u001b[0m\u001b[1;33m+=\u001b[0m\u001b[0mre1\u001b[0m\u001b[1;33m\u001b[0m\u001b[1;33m\u001b[0m\u001b[0m\n\u001b[0;32m     15\u001b[0m \u001b[1;33m\u001b[0m\u001b[0m\n",
      "\u001b[1;32m<ipython-input-39-a5cd2b551404>\u001b[0m in \u001b[0;36mtune2\u001b[1;34m(X, y, lra, echos, hid1, hid2, Xcv, ycv)\u001b[0m\n\u001b[0;32m     24\u001b[0m     \u001b[1;32mfor\u001b[0m \u001b[0mt\u001b[0m \u001b[1;32min\u001b[0m \u001b[0mrange\u001b[0m\u001b[1;33m(\u001b[0m\u001b[0mechos\u001b[0m\u001b[1;33m)\u001b[0m\u001b[1;33m:\u001b[0m\u001b[1;33m\u001b[0m\u001b[1;33m\u001b[0m\u001b[0m\n\u001b[0;32m     25\u001b[0m         \u001b[0mpred\u001b[0m \u001b[1;33m=\u001b[0m \u001b[0mm\u001b[0m\u001b[1;33m.\u001b[0m\u001b[0mforward\u001b[0m\u001b[1;33m(\u001b[0m\u001b[0mX\u001b[0m\u001b[1;33m)\u001b[0m\u001b[1;33m\u001b[0m\u001b[1;33m\u001b[0m\u001b[0m\n\u001b[1;32m---> 26\u001b[1;33m         \u001b[0mlos\u001b[0m \u001b[1;33m=\u001b[0m \u001b[0mloss\u001b[0m\u001b[1;33m(\u001b[0m\u001b[0mpred\u001b[0m\u001b[1;33m,\u001b[0m\u001b[0my\u001b[0m\u001b[1;33m)\u001b[0m\u001b[1;33m\u001b[0m\u001b[1;33m\u001b[0m\u001b[0m\n\u001b[0m\u001b[0;32m     27\u001b[0m         \u001b[0mopt\u001b[0m\u001b[1;33m.\u001b[0m\u001b[0mzero_grad\u001b[0m\u001b[1;33m(\u001b[0m\u001b[1;33m)\u001b[0m\u001b[1;33m\u001b[0m\u001b[1;33m\u001b[0m\u001b[0m\n\u001b[0;32m     28\u001b[0m         \u001b[0mlos\u001b[0m\u001b[1;33m.\u001b[0m\u001b[0mbackward\u001b[0m\u001b[1;33m(\u001b[0m\u001b[1;33m)\u001b[0m\u001b[1;33m\u001b[0m\u001b[1;33m\u001b[0m\u001b[0m\n",
      "\u001b[1;32mC:\\ProgramData\\Anaconda3\\lib\\site-packages\\torch\\nn\\modules\\module.py\u001b[0m in \u001b[0;36m__call__\u001b[1;34m(self, *input, **kwargs)\u001b[0m\n\u001b[0;32m    491\u001b[0m             \u001b[0mresult\u001b[0m \u001b[1;33m=\u001b[0m \u001b[0mself\u001b[0m\u001b[1;33m.\u001b[0m\u001b[0m_slow_forward\u001b[0m\u001b[1;33m(\u001b[0m\u001b[1;33m*\u001b[0m\u001b[0minput\u001b[0m\u001b[1;33m,\u001b[0m \u001b[1;33m**\u001b[0m\u001b[0mkwargs\u001b[0m\u001b[1;33m)\u001b[0m\u001b[1;33m\u001b[0m\u001b[1;33m\u001b[0m\u001b[0m\n\u001b[0;32m    492\u001b[0m         \u001b[1;32melse\u001b[0m\u001b[1;33m:\u001b[0m\u001b[1;33m\u001b[0m\u001b[1;33m\u001b[0m\u001b[0m\n\u001b[1;32m--> 493\u001b[1;33m             \u001b[0mresult\u001b[0m \u001b[1;33m=\u001b[0m \u001b[0mself\u001b[0m\u001b[1;33m.\u001b[0m\u001b[0mforward\u001b[0m\u001b[1;33m(\u001b[0m\u001b[1;33m*\u001b[0m\u001b[0minput\u001b[0m\u001b[1;33m,\u001b[0m \u001b[1;33m**\u001b[0m\u001b[0mkwargs\u001b[0m\u001b[1;33m)\u001b[0m\u001b[1;33m\u001b[0m\u001b[1;33m\u001b[0m\u001b[0m\n\u001b[0m\u001b[0;32m    494\u001b[0m         \u001b[1;32mfor\u001b[0m \u001b[0mhook\u001b[0m \u001b[1;32min\u001b[0m \u001b[0mself\u001b[0m\u001b[1;33m.\u001b[0m\u001b[0m_forward_hooks\u001b[0m\u001b[1;33m.\u001b[0m\u001b[0mvalues\u001b[0m\u001b[1;33m(\u001b[0m\u001b[1;33m)\u001b[0m\u001b[1;33m:\u001b[0m\u001b[1;33m\u001b[0m\u001b[1;33m\u001b[0m\u001b[0m\n\u001b[0;32m    495\u001b[0m             \u001b[0mhook_result\u001b[0m \u001b[1;33m=\u001b[0m \u001b[0mhook\u001b[0m\u001b[1;33m(\u001b[0m\u001b[0mself\u001b[0m\u001b[1;33m,\u001b[0m \u001b[0minput\u001b[0m\u001b[1;33m,\u001b[0m \u001b[0mresult\u001b[0m\u001b[1;33m)\u001b[0m\u001b[1;33m\u001b[0m\u001b[1;33m\u001b[0m\u001b[0m\n",
      "\u001b[1;32mC:\\ProgramData\\Anaconda3\\lib\\site-packages\\torch\\nn\\modules\\loss.py\u001b[0m in \u001b[0;36mforward\u001b[1;34m(self, input, target)\u001b[0m\n\u001b[0;32m    510\u001b[0m     \u001b[1;33m@\u001b[0m\u001b[0mweak_script_method\u001b[0m\u001b[1;33m\u001b[0m\u001b[1;33m\u001b[0m\u001b[0m\n\u001b[0;32m    511\u001b[0m     \u001b[1;32mdef\u001b[0m \u001b[0mforward\u001b[0m\u001b[1;33m(\u001b[0m\u001b[0mself\u001b[0m\u001b[1;33m,\u001b[0m \u001b[0minput\u001b[0m\u001b[1;33m,\u001b[0m \u001b[0mtarget\u001b[0m\u001b[1;33m)\u001b[0m\u001b[1;33m:\u001b[0m\u001b[1;33m\u001b[0m\u001b[1;33m\u001b[0m\u001b[0m\n\u001b[1;32m--> 512\u001b[1;33m         \u001b[1;32mreturn\u001b[0m \u001b[0mF\u001b[0m\u001b[1;33m.\u001b[0m\u001b[0mbinary_cross_entropy\u001b[0m\u001b[1;33m(\u001b[0m\u001b[0minput\u001b[0m\u001b[1;33m,\u001b[0m \u001b[0mtarget\u001b[0m\u001b[1;33m,\u001b[0m \u001b[0mweight\u001b[0m\u001b[1;33m=\u001b[0m\u001b[0mself\u001b[0m\u001b[1;33m.\u001b[0m\u001b[0mweight\u001b[0m\u001b[1;33m,\u001b[0m \u001b[0mreduction\u001b[0m\u001b[1;33m=\u001b[0m\u001b[0mself\u001b[0m\u001b[1;33m.\u001b[0m\u001b[0mreduction\u001b[0m\u001b[1;33m)\u001b[0m\u001b[1;33m\u001b[0m\u001b[1;33m\u001b[0m\u001b[0m\n\u001b[0m\u001b[0;32m    513\u001b[0m \u001b[1;33m\u001b[0m\u001b[0m\n\u001b[0;32m    514\u001b[0m \u001b[1;33m\u001b[0m\u001b[0m\n",
      "\u001b[1;32mC:\\ProgramData\\Anaconda3\\lib\\site-packages\\torch\\nn\\functional.py\u001b[0m in \u001b[0;36mbinary_cross_entropy\u001b[1;34m(input, target, weight, size_average, reduce, reduction)\u001b[0m\n\u001b[0;32m   2111\u001b[0m \u001b[1;33m\u001b[0m\u001b[0m\n\u001b[0;32m   2112\u001b[0m     return torch._C._nn.binary_cross_entropy(\n\u001b[1;32m-> 2113\u001b[1;33m         input, target, weight, reduction_enum)\n\u001b[0m\u001b[0;32m   2114\u001b[0m \u001b[1;33m\u001b[0m\u001b[0m\n\u001b[0;32m   2115\u001b[0m \u001b[1;33m\u001b[0m\u001b[0m\n",
      "\u001b[1;31mKeyboardInterrupt\u001b[0m: "
     ]
    }
   ],
   "source": [
    "h1 = list()\n",
    "h2 = list()\n",
    "l2 = list()\n",
    "e2 = list()\n",
    "res2 = list()\n",
    "for i in hids:\n",
    "    for n in hids:\n",
    "        for j in lras:\n",
    "            for k in echos:\n",
    "                h1.append(i)\n",
    "                h2.append(n)\n",
    "                l2.append(j)\n",
    "                e2.append(k)\n",
    "                print(str(i) + ' ' + str(n) + ' ' + str(j) + ' '+str(k))\n",
    "                res2.append(cv2(X_train_tensor,y_train_tensor,j,k,i,n))"
   ]
  },
  {
   "cell_type": "code",
   "execution_count": 101,
   "metadata": {},
   "outputs": [],
   "source": [
    "def cv3(trainX,trainy,lra,echos,hid1,hid2,hid3):\n",
    "    recalls = 0\n",
    "    for train,test in kf.split(trainX):\n",
    "        tmp_train_X = trainX[train,]\n",
    "        tmp_train_y = trainy[train,]\n",
    "        tmp_test_X = trainX[test,]\n",
    "        tmp_test_y = trainy[test,]\n",
    "        tmp_train_X = tmp_train_X.to(device)\n",
    "        tmp_train_y = tmp_train_y.to(device)\n",
    "        tmp_test_X = tmp_test_X.to(device)\n",
    "\n",
    "        re1 = tune3(tmp_train_X,tmp_train_y,lra,echos,hid1,hid2,hid3,tmp_test_X,tmp_test_y)\n",
    "        recalls+=re1\n",
    "    \n",
    "    return(recalls/5)"
   ]
  },
  {
   "cell_type": "code",
   "execution_count": null,
   "metadata": {},
   "outputs": [],
   "source": [
    "hi1 = list()\n",
    "hi2 = list()\n",
    "hi3 = list()\n",
    "l3 = list()\n",
    "e3 = list()\n",
    "res3 = list()\n",
    "for i in hids:\n",
    "    for n in hids:\n",
    "        for j in lras:\n",
    "            for k in echos:\n",
    "                for q in hids:\n",
    "                hi1.append(i)\n",
    "                hi2.append(n)\n",
    "                hi3.append(n)\n",
    "                l3.append(j)\n",
    "                e3.append(k)\n",
    "                print(str(i) + ' ' + str(n) + ' ' + str(j) + ' '+str(k))\n",
    "                res3.append(cv3(X_train_tensor,y_train_tensor,j,k,i,n,q))"
   ]
  },
  {
   "cell_type": "code",
   "execution_count": null,
   "metadata": {},
   "outputs": [],
   "source": [
    "dt_n1 = pd.DataFrame({'hidden_nodes1':h,'lr':l,'epoch':e,'recall':res})"
   ]
  },
  {
   "cell_type": "code",
   "execution_count": null,
   "metadata": {},
   "outputs": [],
   "source": [
    "dt_n2 = pd.DataFrame({'hidden_nodes1':h1,'hidden_nodes2':h2,'lr':l2,'epoch':e2,'recall':res2})"
   ]
  },
  {
   "cell_type": "code",
   "execution_count": 48,
   "metadata": {},
   "outputs": [],
   "source": [
    "dt_n3 = pd.DataFrame({'hidden_nodes1':h1,'hidden_nodes2':h2,'hidden_nodes2':h3,'lr':l2,'epoch':e2,'recall':res2})"
   ]
  },
  {
   "cell_type": "code",
   "execution_count": null,
   "metadata": {},
   "outputs": [],
   "source": [
    "pd.concat([dt_n1,dt_n2,dt_n3],axis = 1)['recall'].min()"
   ]
  },
  {
   "cell_type": "code",
   "execution_count": 51,
   "metadata": {},
   "outputs": [
    {
     "data": {
      "text/html": [
       "<div>\n",
       "<style scoped>\n",
       "    .dataframe tbody tr th:only-of-type {\n",
       "        vertical-align: middle;\n",
       "    }\n",
       "\n",
       "    .dataframe tbody tr th {\n",
       "        vertical-align: top;\n",
       "    }\n",
       "\n",
       "    .dataframe thead th {\n",
       "        text-align: right;\n",
       "    }\n",
       "</style>\n",
       "<table border=\"1\" class=\"dataframe\">\n",
       "  <thead>\n",
       "    <tr style=\"text-align: right;\">\n",
       "      <th></th>\n",
       "      <th>hidden_nodes1</th>\n",
       "      <th>hidden_nodes2</th>\n",
       "      <th>lr</th>\n",
       "      <th>epoch</th>\n",
       "      <th>recall</th>\n",
       "    </tr>\n",
       "  </thead>\n",
       "  <tbody>\n",
       "    <tr>\n",
       "      <th>79</th>\n",
       "      <td>50</td>\n",
       "      <td>1000</td>\n",
       "      <td>0.5</td>\n",
       "      <td>10000</td>\n",
       "      <td>0.882253</td>\n",
       "    </tr>\n",
       "  </tbody>\n",
       "</table>\n",
       "</div>"
      ],
      "text/plain": [
       "    hidden_nodes1  hidden_nodes2   lr  epoch    recall\n",
       "79             50           1000  0.5  10000  0.882253"
      ]
     },
     "execution_count": 51,
     "metadata": {},
     "output_type": "execute_result"
    }
   ],
   "source": [
    "dt_n2.loc[dt_n2['recall'] == dt_n2['recall'].max()]"
   ]
  },
  {
   "cell_type": "code",
   "execution_count": 57,
   "metadata": {},
   "outputs": [],
   "source": [
    "X_test_tensor = torch.from_numpy(X_test[i1].values.astype(np.float32))\n",
    "y_test_tensor = torch.from_numpy(y_test.values.astype(np.float32))\n",
    "X_test_tensor = X_test_tensor.to(device)"
   ]
  },
  {
   "cell_type": "code",
   "execution_count": 97,
   "metadata": {},
   "outputs": [
    {
     "data": {
      "text/plain": [
       "0.8714682067833078"
      ]
     },
     "execution_count": 97,
     "metadata": {},
     "output_type": "execute_result"
    }
   ],
   "source": [
    "m2 = Net2(X_train_tensor.shape[1],1000,1000,1)\n",
    "m2 = m2.to(device)\n",
    "X_train_tensor = X_train_tensor.to(device)\n",
    "y_train_tensor = y_train_tensor.to(device)\n",
    "X_v_tensor=X_v_tensor.to(device)\n",
    "optimizer = torch.optim.SGD(m2.parameters(),lr=0.5)\n",
    "loss_func = torch.nn.BCELoss()\n",
    "for t in range(10000):\n",
    "    prediction = m2.forward(X_train_tensor)\n",
    "    loss = loss_func(prediction,y_train_tensor)\n",
    "    optimizer.zero_grad()\n",
    "    loss.backward()\n",
    "    optimizer.step()\n",
    "vpred = m2.label(X_v_tensor)\n",
    "vpred = vpred.cpu()\n",
    "recall_score(vpred,y_v_tensor)"
   ]
  },
  {
   "cell_type": "code",
   "execution_count": 84,
   "metadata": {},
   "outputs": [
    {
     "data": {
      "text/plain": [
       "0.9235516739446871"
      ]
     },
     "execution_count": 84,
     "metadata": {},
     "output_type": "execute_result"
    }
   ],
   "source": [
    "pred = m2.label(X_v_tensor)\n",
    "pred = pred.cpu()\n",
    "recall_score(pred,y_v_tensor)"
   ]
  },
  {
   "cell_type": "code",
   "execution_count": 85,
   "metadata": {},
   "outputs": [],
   "source": [
    "pred_prob = m2.forward(X_test_tensor)"
   ]
  },
  {
   "cell_type": "code",
   "execution_count": 86,
   "metadata": {},
   "outputs": [],
   "source": [
    "pred_prob = pred_prob.cpu()"
   ]
  },
  {
   "cell_type": "code",
   "execution_count": 87,
   "metadata": {},
   "outputs": [],
   "source": [
    "import numpy as np\n",
    "from sklearn import metrics"
   ]
  },
  {
   "cell_type": "code",
   "execution_count": 88,
   "metadata": {},
   "outputs": [],
   "source": [
    "fpr, tpr, thresholds = metrics.roc_curve(y_v_tensor.detach().numpy(), pred.detach().numpy(), pos_label=1)"
   ]
  },
  {
   "cell_type": "code",
   "execution_count": 91,
   "metadata": {},
   "outputs": [
    {
     "data": {
      "text/plain": [
       "0.9584966493867746"
      ]
     },
     "execution_count": 91,
     "metadata": {},
     "output_type": "execute_result"
    }
   ],
   "source": [
    "metrics.auc(fpr, tpr)"
   ]
  }
 ],
 "metadata": {
  "kernelspec": {
   "display_name": "Python 3",
   "language": "python",
   "name": "python3"
  },
  "language_info": {
   "codemirror_mode": {
    "name": "ipython",
    "version": 3
   },
   "file_extension": ".py",
   "mimetype": "text/x-python",
   "name": "python",
   "nbconvert_exporter": "python",
   "pygments_lexer": "ipython3",
   "version": "3.7.1"
  }
 },
 "nbformat": 4,
 "nbformat_minor": 2
}
